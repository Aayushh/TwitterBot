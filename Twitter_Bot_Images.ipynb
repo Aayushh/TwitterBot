{
  "nbformat": 4,
  "nbformat_minor": 0,
  "metadata": {
    "colab": {
      "provenance": [],
      "authorship_tag": "ABX9TyMwaBtjWIqCIYrNgySkBDBj",
      "include_colab_link": true
    },
    "kernelspec": {
      "name": "python3",
      "display_name": "Python 3"
    },
    "language_info": {
      "name": "python"
    }
  },
  "cells": [
    {
      "cell_type": "markdown",
      "metadata": {
        "id": "view-in-github",
        "colab_type": "text"
      },
      "source": [
        "<a href=\"https://colab.research.google.com/github/Aayushh/TwitterBot/blob/main/Twitter_Bot_Images.ipynb\" target=\"_parent\"><img src=\"https://colab.research.google.com/assets/colab-badge.svg\" alt=\"Open In Colab\"/></a>"
      ]
    },
    {
      "cell_type": "code",
      "execution_count": 20,
      "metadata": {
        "id": "ecC77LJJRcj5"
      },
      "outputs": [],
      "source": [
        "#Authentication - Don't tamper\n",
        "import tweepy\n",
        "import time\n",
        "import random\n",
        "# Twitter API credentials\n",
        "api_key = '8lmFU2vjxctboaccmDls7ezXW'\n",
        "api_secret = 'XIwpDo5gc2Vo5InGuH5o9EzECawfnnFSbfqv57NYATpuSccNVz'\n",
        "bearer_token = r'AAAAAAAAAAAAAAAAAAAAAOxvnQEAAAAAZNrQpO6PiNAtEIQ1kBc5qkRTkUA%3DAlMQx7w3VpODHIW1ni14Rm8YOPNsDXajRAn20xEepHWHCiRrYs'\n",
        "access_token = '1655239236973662213-0qnCQXqLB5tgPyBhgd9DPUVleRaWn8'\n",
        "access_token_secret = 'iwuII6IPl0y3p0VEgnm4vxnPtrFHxHNvEfIyAUWiX4tYU'\n",
        "\n",
        "# Authenticate with the Twitter API\n",
        "auth = tweepy.OAuthHandler(api_key, api_secret)\n",
        "\n",
        "auth.set_access_token(access_token, access_token_secret)\n",
        "\n",
        "# Create a Tweepy API object\n",
        "api = tweepy.API(auth)\n",
        "\n",
        "client = tweepy.Client(bearer_token, api_key, api_secret, access_token, access_token_secret)\n",
        "auth = tweepy.OAuth1UserHandler(api_key, api_secret, access_token, access_token_secret)\n",
        "api = tweepy.API(auth)"
      ]
    },
    {
      "cell_type": "markdown",
      "source": [
        "This code is for looping"
      ],
      "metadata": {
        "id": "92wOartm6Zx9"
      }
    },
    {
      "cell_type": "code",
      "source": [
        "#put the main tweet here- the one that starts the thread like the convocation thread.\n",
        "tweet_main = client.create_tweet(text = \"Convocati on in our college, the team is work to mak\")\n",
        "# Initialise Tweet Id\n",
        "tweet_id=tweet_main.data['id']\n",
        "#Update this with the list of tweets to send in the thread\n",
        "replies = [\n",
        "    \"This is the award given to our bestest senior  and kindest person.\",\n",
        "    \"This is given to  that d_mainoes some work\",\n",
        "    \"This is for  script that will save effort.\",\n",
        "    \"Thankyou  attending the convacation\"\n",
        "]\n",
        "n = len(replies)\n",
        "i=1\n",
        "#This is for merging lists if merge is required. \n",
        "#replies_with_username = [reply + f\" {username}\" for reply, username in zip(replies, usernames)]\n",
        "\n",
        "\n",
        "# Post the thread replies\n",
        "# replace replies with replies_with_username if merged\n",
        "\n",
        "for reply in replies:\n",
        "    # Wait for a few seconds before posting each reply\n",
        "    time.sleep(5)\n",
        "    # Reply to the initial tweet using the in_reply_to_status_id parameter\n",
        "    tweet_reply = client.create_tweet(text=reply + \" \" + str(i) +\"/\"+ str(n) , in_reply_to_tweet_id=tweet_id)\n",
        "    print(f\"{i} replies in the tweet have been posted. {i}/{n}\")\n",
        "    tweet_id = tweet_reply.data['id']\n",
        "    i+=1"
      ],
      "metadata": {
        "id": "HKnw8oVeSLUY",
        "colab": {
          "base_uri": "https://localhost:8080/"
        },
        "outputId": "be69a88d-4553-4df2-c0b6-6ef521061c36"
      },
      "execution_count": null,
      "outputs": [
        {
          "output_type": "stream",
          "name": "stdout",
          "text": [
            "1 replies in the tweet have been posted. 1/4\n"
          ]
        }
      ]
    },
    {
      "cell_type": "markdown",
      "source": [
        "Tweets with images"
      ],
      "metadata": {
        "id": "G1lsZjSrNXWU"
      }
    },
    {
      "cell_type": "code",
      "source": [
        "#Mount drive\n",
        "from google.colab import drive\n",
        "drive.mount('/content/drive')"
      ],
      "metadata": {
        "colab": {
          "base_uri": "https://localhost:8080/"
        },
        "id": "grIavdVbNar0",
        "outputId": "a6d8af92-7537-4842-d8d8-f3000ac04da2"
      },
      "execution_count": 30,
      "outputs": [
        {
          "output_type": "stream",
          "name": "stdout",
          "text": [
            "Mounted at /content/drive\n"
          ]
        }
      ]
    },
    {
      "cell_type": "code",
      "source": [
        "## With Images\n",
        "from PIL import Image\n",
        "#put the main tweet here- the one that starts the thread like the convocation thread.\n",
        "tweet_main = client.create_tweet(text = \"Image with tweets, the team is work \")\n",
        "# Initialise Tweet Id\n",
        "tweet_id=tweet_main.data['id']\n",
        "#Update this with the list of tweets to send in the thread\n",
        "replies = [\n",
        "    \"This is the award given to our bestest senior and  worker and kindest person.\",\n",
        "    \"This is given to  that d_mainoes some work\",\n",
        "    \"This is for  script that will save effort.\",\n",
        "    \"Thankyou  attending the convacation\"\n",
        "]\n",
        "n = len(replies)\n",
        "i=1\n",
        "#This is for merging lists if merge is required. \n",
        "#replies_with_username = [reply + f\" {username}\" for reply, username in zip(replies, usernames)]\n",
        "\n",
        "\n",
        "# Post the thread replies\n",
        "# replace replies with replies_with_username if merged\n",
        "\n",
        "for reply in replies:\n",
        "  #Uploading Media\n",
        "    image_path = f\"/content/drive/MyDrive/Conv_images/Conv_{i}.jpg\"\n",
        "    media = api.media_upload(image_path)\n",
        "    mid = [media.media_id]\n",
        "\n",
        "    # Wait for a few seconds before posting each reply\n",
        "    time.sleep(5)\n",
        "    # Reply to the initial tweet using the in_reply_to_status_id parameter\n",
        "    tweet_reply = client.create_tweet(text=reply + \" \" + str(i) +\"/\"+ str(n) , in_reply_to_tweet_id=tweet_id, media_ids= mid)\n",
        "    print(f\"{i} replies in the tweet have been posted. {i}/{n}\")\n",
        "    tweet_id = tweet_reply.data['id']\n",
        "    i+=1\n"
      ],
      "metadata": {
        "colab": {
          "base_uri": "https://localhost:8080/"
        },
        "id": "XlnFexkmNWbY",
        "outputId": "01dd7947-11da-44a4-8d84-851361a13466"
      },
      "execution_count": 33,
      "outputs": [
        {
          "output_type": "stream",
          "name": "stdout",
          "text": [
            "1 replies in the tweet have been posted. 1/4\n",
            "2 replies in the tweet have been posted. 2/4\n",
            "3 replies in the tweet have been posted. 3/4\n",
            "4 replies in the tweet have been posted. 4/4\n"
          ]
        }
      ]
    },
    {
      "cell_type": "code",
      "source": [],
      "metadata": {
        "colab": {
          "base_uri": "https://localhost:8080/"
        },
        "id": "LZ3y7ifsBuY4",
        "outputId": "cba1cf96-acaf-4aae-f853-4b0a23779bac"
      },
      "execution_count": 19,
      "outputs": [
        {
          "output_type": "stream",
          "name": "stdout",
          "text": [
            "This is the award given to our bestest senior and hardest worker and kindest person. 1/4\n",
            "1 replies in the tweet have been posted. 1/4\n",
            "This is given to someone that does some work 2/4\n",
            "2 replies in the tweet have been posted. 2/4\n",
            "This is for the script that will save effort. 3/4\n",
            "3 replies in the tweet have been posted. 3/4\n",
            "Thankyou for attending the convacation 4/4\n",
            "4 replies in the tweet have been posted. 4/4\n"
          ]
        }
      ]
    }
  ]
}